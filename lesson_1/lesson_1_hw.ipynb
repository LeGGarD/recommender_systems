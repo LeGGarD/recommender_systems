{
 "cells": [
  {
   "cell_type": "markdown",
   "id": "7dff0a2f",
   "metadata": {},
   "source": [
    "# Дописать функции подсчета метрик"
   ]
  },
  {
   "cell_type": "code",
   "execution_count": 2,
   "id": "5b348ce7",
   "metadata": {},
   "outputs": [],
   "source": [
    "import numpy as np"
   ]
  },
  {
   "cell_type": "markdown",
   "id": "8b86d423",
   "metadata": {},
   "source": [
    "# Hit Rate\n",
    "\n",
    "Показывает, угадалили вы хотя бы с 1 рекомендацией (если человек купил хоть 1 товар из рекомендованных - метрика равна 1, если нет - 0)"
   ]
  },
  {
   "cell_type": "code",
   "execution_count": 3,
   "id": "39471c1d",
   "metadata": {},
   "outputs": [],
   "source": [
    "recommended_list = [143, 156, 1134, 991, 27, 1543, 3345, 533, 11, 43]\n",
    "\n",
    "bought_list = [521, 32, 143, 991]\n",
    "\n",
    "prices_recommended = [400, 60, 40, 40 , 90]\n",
    "\n",
    "prices_bought = [40, 60, 400, 40]"
   ]
  },
  {
   "cell_type": "code",
   "execution_count": 4,
   "id": "ebcbc418",
   "metadata": {},
   "outputs": [],
   "source": [
    "def hit_rate(recommended_list, bought_list):\n",
    "    bought_list = np.array(bought_list)\n",
    "    recommended_list = np.array(recommended_list)\n",
    "    \n",
    "    flags = np.isin(bought_list, recommended_list)\n",
    "    return (flags.sum() > 0) * 1\n",
    "\n",
    "def hit_rate_at_k(recommended_list, bought_list, k=5):\n",
    "    return hit_rate(recommended_list[:k], bought_list)"
   ]
  },
  {
   "cell_type": "code",
   "execution_count": 5,
   "id": "a6cedd64",
   "metadata": {},
   "outputs": [
    {
     "data": {
      "text/plain": [
       "1"
      ]
     },
     "execution_count": 5,
     "metadata": {},
     "output_type": "execute_result"
    }
   ],
   "source": [
    "hit_rate(recommended_list, bought_list)"
   ]
  },
  {
   "cell_type": "code",
   "execution_count": 6,
   "id": "3d0055d2",
   "metadata": {},
   "outputs": [
    {
     "data": {
      "text/plain": [
       "1"
      ]
     },
     "execution_count": 6,
     "metadata": {},
     "output_type": "execute_result"
    }
   ],
   "source": [
    "hit_rate_at_k(recommended_list, bought_list, k=5)"
   ]
  },
  {
   "cell_type": "code",
   "execution_count": null,
   "id": "bfc7672e",
   "metadata": {},
   "outputs": [],
   "source": []
  },
  {
   "cell_type": "markdown",
   "id": "9b8211d5",
   "metadata": {},
   "source": [
    "# Precision  \n",
    "  \n",
    "Показывает, какую долю составляют угаданные рекомендации от всех рекоммендаций  \n",
    "  \n",
    "В случае с денежной версией метрики, считается сумма угаданных (совпавших по рекоммендации/покупке) товаров и делится на сумму всех рекомендованных товаров"
   ]
  },
  {
   "cell_type": "code",
   "execution_count": 7,
   "id": "ad800ac5",
   "metadata": {},
   "outputs": [],
   "source": [
    "def precision(recommended_list, bought_list):\n",
    "    \n",
    "    bought_list = np.array(bought_list)\n",
    "    recommended_list = np.array(recommended_list)\n",
    "    \n",
    "    flags = np.isin(bought_list, recommended_list)\n",
    "    \n",
    "    return flags.sum() / len(recommended_list)\n",
    "\n",
    "\n",
    "def precision_at_k(recommended_list, bought_list, k=5):\n",
    "    return precision(recommended_list[:k], bought_list)\n",
    "\n",
    "def money_precision_at_k_(recommended_list, bought_list, prices_recommended, k=5):\n",
    "    \n",
    "    recommend_list = np.array(recommended_list)[:k]\n",
    "    prices_recommended = np.array(prices_recommended)[:k]\n",
    "    \n",
    "    flags = np.isin(recommend_list, bought_list)\n",
    "    \n",
    "    precision = np.dot(flags, prices_recommended).sum() / prices_recommended.sum()\n",
    "    \n",
    "    return precision"
   ]
  },
  {
   "cell_type": "code",
   "execution_count": 8,
   "id": "579e94fb",
   "metadata": {},
   "outputs": [
    {
     "data": {
      "text/plain": [
       "0.2"
      ]
     },
     "execution_count": 8,
     "metadata": {},
     "output_type": "execute_result"
    }
   ],
   "source": [
    "precision(recommended_list, bought_list)"
   ]
  },
  {
   "cell_type": "code",
   "execution_count": 9,
   "id": "737bf58b",
   "metadata": {},
   "outputs": [
    {
     "data": {
      "text/plain": [
       "0.4"
      ]
     },
     "execution_count": 9,
     "metadata": {},
     "output_type": "execute_result"
    }
   ],
   "source": [
    "precision_at_k(recommended_list, bought_list, k=5)"
   ]
  },
  {
   "cell_type": "code",
   "execution_count": 10,
   "id": "e8a49a40",
   "metadata": {},
   "outputs": [
    {
     "data": {
      "text/plain": [
       "0.6984126984126984"
      ]
     },
     "execution_count": 10,
     "metadata": {},
     "output_type": "execute_result"
    }
   ],
   "source": [
    "money_precision_at_k_(recommended_list, bought_list, prices_recommended, k=5)"
   ]
  },
  {
   "cell_type": "markdown",
   "id": "954b1e93",
   "metadata": {},
   "source": [
    "# Recall  \n",
    "  \n",
    "Показывает, какую долю составляют угаданные товары, от всех купленных  "
   ]
  },
  {
   "cell_type": "code",
   "execution_count": 11,
   "id": "22483f76",
   "metadata": {},
   "outputs": [],
   "source": [
    "def recall(recommended_list, bought_list):\n",
    "    \n",
    "    bought_list = np.array(bought_list)\n",
    "    recommended_list = np.array(recommended_list)\n",
    "    \n",
    "    flags = np.isin(bought_list, recommended_list)\n",
    "    \n",
    "    return flags.sum() / len(bought_list)\n",
    "    \n",
    "\n",
    "def recall_at_k(recommended_list, bought_list, k=5):\n",
    "    return recall(recommended_list[:k], bought_list)\n",
    "\n",
    "\n",
    "def money_recall_at_k(recommended_list, bought_list, prices_recommended, prices_bought, k=5):\n",
    "    \n",
    "    bought_list = np.array(bought_list)\n",
    "    recommended_list = np.array(recommended_list[:k])\n",
    "    prices_recommended = np.array(prices_recommended[:k])\n",
    "    prices_bought = np.array(prices_bought)\n",
    "    \n",
    "    flags = np.isin(recommended_list, bought_list)\n",
    "    \n",
    "    recall = np.dot(flags, prices_recommended).sum() / prices_bought.sum()\n",
    "    \n",
    "    return recall"
   ]
  },
  {
   "cell_type": "code",
   "execution_count": 12,
   "id": "a2e6a7b7",
   "metadata": {},
   "outputs": [
    {
     "data": {
      "text/plain": [
       "0.5"
      ]
     },
     "execution_count": 12,
     "metadata": {},
     "output_type": "execute_result"
    }
   ],
   "source": [
    "recall(recommended_list, bought_list)"
   ]
  },
  {
   "cell_type": "code",
   "execution_count": 13,
   "id": "d0b2a6f2",
   "metadata": {},
   "outputs": [
    {
     "data": {
      "text/plain": [
       "0.5"
      ]
     },
     "execution_count": 13,
     "metadata": {},
     "output_type": "execute_result"
    }
   ],
   "source": [
    "recall_at_k(recommended_list, bought_list, k=5)"
   ]
  },
  {
   "cell_type": "code",
   "execution_count": 14,
   "id": "29e6eae1",
   "metadata": {},
   "outputs": [
    {
     "data": {
      "text/plain": [
       "0.8148148148148148"
      ]
     },
     "execution_count": 14,
     "metadata": {},
     "output_type": "execute_result"
    }
   ],
   "source": [
    "money_recall_at_k(recommended_list, bought_list, prices_recommended, prices_bought, k=5)"
   ]
  },
  {
   "cell_type": "code",
   "execution_count": 15,
   "id": "ac831c34",
   "metadata": {},
   "outputs": [],
   "source": [
    "# теперь список из 3 пользователей\n",
    "recommended_list_3_users = [[143, 156, 1134, 991, 27, 1543, 3345, 533, 11, 43], \n",
    "                            [1134, 533, 14, 4, 15, 1543, 1, 99, 27, 3345],\n",
    "                            [991, 3345, 27, 533, 43, 143, 1543, 156, 1134, 11]\n",
    "                    ]\n",
    "\n",
    "bought_list_3_users = [[521, 32, 143],  # юзер 1\n",
    "                       [143, 156, 991, 43, 11], # юзер 2\n",
    "                       [1,2]\n",
    "                      ] # юзер 3"
   ]
  },
  {
   "cell_type": "markdown",
   "id": "772afc54",
   "metadata": {},
   "source": [
    "# Mean Average Precision @k  \n",
    "  \n",
    "Средняя точность по пользователям"
   ]
  },
  {
   "cell_type": "code",
   "execution_count": 16,
   "id": "726378d1",
   "metadata": {},
   "outputs": [],
   "source": [
    "def map_k(recommended_users_list, bought_users_list, k=5):\n",
    "    \n",
    "    result = 0\n",
    "    \n",
    "    for i in range(len(bought_users_list)):\n",
    "        prec = precision(recommended_users_list[i][:k], bought_users_list[i])\n",
    "        result += prec\n",
    "        \n",
    "    result /= len(bought_users_list)\n",
    "    \n",
    "    return result"
   ]
  },
  {
   "cell_type": "code",
   "execution_count": 17,
   "id": "d0c599d8",
   "metadata": {},
   "outputs": [
    {
     "data": {
      "text/plain": [
       "0.06666666666666667"
      ]
     },
     "execution_count": 17,
     "metadata": {},
     "output_type": "execute_result"
    }
   ],
   "source": [
    "map_k(recommended_list_3_users, bought_list_3_users, k=5)"
   ]
  },
  {
   "cell_type": "code",
   "execution_count": 18,
   "id": "6cd14c10",
   "metadata": {},
   "outputs": [],
   "source": [
    "recommended_list = [143, 156, 1134, 991, 27, 1543, 3345, 533, 11, 43]\n",
    "\n",
    "bought_list = [521, 32, 143, 991]"
   ]
  },
  {
   "cell_type": "markdown",
   "id": "b1ac24a5",
   "metadata": {},
   "source": [
    "# Mean Reciprocal Rank  \n",
    "  \n",
    "Отражает, насколько хорошо отранжированы рекоммендации"
   ]
  },
  {
   "cell_type": "code",
   "execution_count": 24,
   "id": "cc66e1c0",
   "metadata": {},
   "outputs": [],
   "source": [
    "def reciprocal_rank(recommended_list, bought_list, k=1):\n",
    "    for i, el in enumerate(recommended_list[:k]):\n",
    "        if el in bought_list:\n",
    "            return 1 / (i + 1)\n",
    "    return 0"
   ]
  },
  {
   "cell_type": "code",
   "execution_count": 25,
   "id": "6fb93584",
   "metadata": {},
   "outputs": [
    {
     "data": {
      "text/plain": [
       "1.0"
      ]
     },
     "execution_count": 25,
     "metadata": {},
     "output_type": "execute_result"
    }
   ],
   "source": [
    "reciprocal_rank(recommended_list, bought_list, k=5)"
   ]
  },
  {
   "cell_type": "code",
   "execution_count": 27,
   "id": "1fec1c81",
   "metadata": {},
   "outputs": [
    {
     "name": "stdout",
     "output_type": "stream",
     "text": [
      "RR = 1.0\n",
      "RR = 0\n",
      "RR = 0\n",
      "MRR = 0.3333333333333333\n"
     ]
    }
   ],
   "source": [
    "rr = 0\n",
    "for i in range(len(recommended_list_3_users)):\n",
    "    rec_rank = reciprocal_rank(recommended_list_3_users[i], bought_list_3_users[i], k=5)\n",
    "    print(f'RR = {rec_rank}')\n",
    "    rr += rec_rank\n",
    "print(f'MRR = {rr / len(recommended_list_3_users)}')"
   ]
  },
  {
   "cell_type": "code",
   "execution_count": null,
   "id": "b459b0ce",
   "metadata": {},
   "outputs": [],
   "source": []
  }
 ],
 "metadata": {
  "kernelspec": {
   "display_name": "Python 3 (ipykernel)",
   "language": "python",
   "name": "python3"
  },
  "language_info": {
   "codemirror_mode": {
    "name": "ipython",
    "version": 3
   },
   "file_extension": ".py",
   "mimetype": "text/x-python",
   "name": "python",
   "nbconvert_exporter": "python",
   "pygments_lexer": "ipython3",
   "version": "3.8.10"
  }
 },
 "nbformat": 4,
 "nbformat_minor": 5
}
